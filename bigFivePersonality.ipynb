{
 "cells": [
  {
   "attachments": {},
   "cell_type": "markdown",
   "metadata": {},
   "source": [
    "Big Five Personality Test"
   ]
  },
  {
   "cell_type": "code",
   "execution_count": 2,
   "metadata": {},
   "outputs": [],
   "source": [
    "import pandas as pd\n",
    "import numpy as np\n",
    "from sklearn.cluster import KMeans\n",
    "import matplotlib.pyplot as plt "
   ]
  },
  {
   "cell_type": "code",
   "execution_count": 3,
   "metadata": {},
   "outputs": [],
   "source": [
    "data = pd.read_csv(\"E:/ML projects/data-final.csv\")"
   ]
  },
  {
   "cell_type": "code",
   "execution_count": 4,
   "metadata": {},
   "outputs": [],
   "source": [
    "x = data.iloc[:,:50]"
   ]
  },
  {
   "cell_type": "code",
   "execution_count": 5,
   "metadata": {},
   "outputs": [
    {
     "data": {
      "text/html": [
       "<div>\n",
       "<style scoped>\n",
       "    .dataframe tbody tr th:only-of-type {\n",
       "        vertical-align: middle;\n",
       "    }\n",
       "\n",
       "    .dataframe tbody tr th {\n",
       "        vertical-align: top;\n",
       "    }\n",
       "\n",
       "    .dataframe thead th {\n",
       "        text-align: right;\n",
       "    }\n",
       "</style>\n",
       "<table border=\"1\" class=\"dataframe\">\n",
       "  <thead>\n",
       "    <tr style=\"text-align: right;\">\n",
       "      <th></th>\n",
       "      <th>EXT1</th>\n",
       "      <th>EXT2</th>\n",
       "      <th>EXT3</th>\n",
       "      <th>EXT4</th>\n",
       "      <th>EXT5</th>\n",
       "      <th>EXT6</th>\n",
       "      <th>EXT7</th>\n",
       "      <th>EXT8</th>\n",
       "      <th>EXT9</th>\n",
       "      <th>EXT10</th>\n",
       "      <th>...</th>\n",
       "      <th>OPN1</th>\n",
       "      <th>OPN2</th>\n",
       "      <th>OPN3</th>\n",
       "      <th>OPN4</th>\n",
       "      <th>OPN5</th>\n",
       "      <th>OPN6</th>\n",
       "      <th>OPN7</th>\n",
       "      <th>OPN8</th>\n",
       "      <th>OPN9</th>\n",
       "      <th>OPN10</th>\n",
       "    </tr>\n",
       "  </thead>\n",
       "  <tbody>\n",
       "    <tr>\n",
       "      <th>0</th>\n",
       "      <td>4.0</td>\n",
       "      <td>1.0</td>\n",
       "      <td>5.0</td>\n",
       "      <td>2.0</td>\n",
       "      <td>5.0</td>\n",
       "      <td>1.0</td>\n",
       "      <td>5.0</td>\n",
       "      <td>2.0</td>\n",
       "      <td>4.0</td>\n",
       "      <td>1.0</td>\n",
       "      <td>...</td>\n",
       "      <td>5.0</td>\n",
       "      <td>1.0</td>\n",
       "      <td>4.0</td>\n",
       "      <td>1.0</td>\n",
       "      <td>4.0</td>\n",
       "      <td>1.0</td>\n",
       "      <td>5.0</td>\n",
       "      <td>3.0</td>\n",
       "      <td>4.0</td>\n",
       "      <td>5.0</td>\n",
       "    </tr>\n",
       "    <tr>\n",
       "      <th>1</th>\n",
       "      <td>3.0</td>\n",
       "      <td>5.0</td>\n",
       "      <td>3.0</td>\n",
       "      <td>4.0</td>\n",
       "      <td>3.0</td>\n",
       "      <td>3.0</td>\n",
       "      <td>2.0</td>\n",
       "      <td>5.0</td>\n",
       "      <td>1.0</td>\n",
       "      <td>5.0</td>\n",
       "      <td>...</td>\n",
       "      <td>1.0</td>\n",
       "      <td>2.0</td>\n",
       "      <td>4.0</td>\n",
       "      <td>2.0</td>\n",
       "      <td>3.0</td>\n",
       "      <td>1.0</td>\n",
       "      <td>4.0</td>\n",
       "      <td>2.0</td>\n",
       "      <td>5.0</td>\n",
       "      <td>3.0</td>\n",
       "    </tr>\n",
       "    <tr>\n",
       "      <th>2</th>\n",
       "      <td>2.0</td>\n",
       "      <td>3.0</td>\n",
       "      <td>4.0</td>\n",
       "      <td>4.0</td>\n",
       "      <td>3.0</td>\n",
       "      <td>2.0</td>\n",
       "      <td>1.0</td>\n",
       "      <td>3.0</td>\n",
       "      <td>2.0</td>\n",
       "      <td>5.0</td>\n",
       "      <td>...</td>\n",
       "      <td>5.0</td>\n",
       "      <td>1.0</td>\n",
       "      <td>2.0</td>\n",
       "      <td>1.0</td>\n",
       "      <td>4.0</td>\n",
       "      <td>2.0</td>\n",
       "      <td>5.0</td>\n",
       "      <td>3.0</td>\n",
       "      <td>4.0</td>\n",
       "      <td>4.0</td>\n",
       "    </tr>\n",
       "    <tr>\n",
       "      <th>3</th>\n",
       "      <td>2.0</td>\n",
       "      <td>2.0</td>\n",
       "      <td>2.0</td>\n",
       "      <td>3.0</td>\n",
       "      <td>4.0</td>\n",
       "      <td>2.0</td>\n",
       "      <td>2.0</td>\n",
       "      <td>4.0</td>\n",
       "      <td>1.0</td>\n",
       "      <td>4.0</td>\n",
       "      <td>...</td>\n",
       "      <td>4.0</td>\n",
       "      <td>2.0</td>\n",
       "      <td>5.0</td>\n",
       "      <td>2.0</td>\n",
       "      <td>3.0</td>\n",
       "      <td>1.0</td>\n",
       "      <td>4.0</td>\n",
       "      <td>4.0</td>\n",
       "      <td>3.0</td>\n",
       "      <td>3.0</td>\n",
       "    </tr>\n",
       "    <tr>\n",
       "      <th>4</th>\n",
       "      <td>3.0</td>\n",
       "      <td>3.0</td>\n",
       "      <td>3.0</td>\n",
       "      <td>3.0</td>\n",
       "      <td>5.0</td>\n",
       "      <td>3.0</td>\n",
       "      <td>3.0</td>\n",
       "      <td>5.0</td>\n",
       "      <td>3.0</td>\n",
       "      <td>4.0</td>\n",
       "      <td>...</td>\n",
       "      <td>5.0</td>\n",
       "      <td>1.0</td>\n",
       "      <td>5.0</td>\n",
       "      <td>1.0</td>\n",
       "      <td>5.0</td>\n",
       "      <td>1.0</td>\n",
       "      <td>5.0</td>\n",
       "      <td>3.0</td>\n",
       "      <td>5.0</td>\n",
       "      <td>5.0</td>\n",
       "    </tr>\n",
       "  </tbody>\n",
       "</table>\n",
       "<p>5 rows × 50 columns</p>\n",
       "</div>"
      ],
      "text/plain": [
       "   EXT1  EXT2  EXT3  EXT4  EXT5  EXT6  EXT7  EXT8  EXT9  EXT10  ...  OPN1  \\\n",
       "0   4.0   1.0   5.0   2.0   5.0   1.0   5.0   2.0   4.0    1.0  ...   5.0   \n",
       "1   3.0   5.0   3.0   4.0   3.0   3.0   2.0   5.0   1.0    5.0  ...   1.0   \n",
       "2   2.0   3.0   4.0   4.0   3.0   2.0   1.0   3.0   2.0    5.0  ...   5.0   \n",
       "3   2.0   2.0   2.0   3.0   4.0   2.0   2.0   4.0   1.0    4.0  ...   4.0   \n",
       "4   3.0   3.0   3.0   3.0   5.0   3.0   3.0   5.0   3.0    4.0  ...   5.0   \n",
       "\n",
       "   OPN2  OPN3  OPN4  OPN5  OPN6  OPN7  OPN8  OPN9  OPN10  \n",
       "0   1.0   4.0   1.0   4.0   1.0   5.0   3.0   4.0    5.0  \n",
       "1   2.0   4.0   2.0   3.0   1.0   4.0   2.0   5.0    3.0  \n",
       "2   1.0   2.0   1.0   4.0   2.0   5.0   3.0   4.0    4.0  \n",
       "3   2.0   5.0   2.0   3.0   1.0   4.0   4.0   3.0    3.0  \n",
       "4   1.0   5.0   1.0   5.0   1.0   5.0   3.0   5.0    5.0  \n",
       "\n",
       "[5 rows x 50 columns]"
      ]
     },
     "execution_count": 5,
     "metadata": {},
     "output_type": "execute_result"
    }
   ],
   "source": [
    "x.head()"
   ]
  },
  {
   "cell_type": "code",
   "execution_count": 8,
   "metadata": {},
   "outputs": [
    {
     "data": {
      "text/plain": [
       "EXT1     1783\n",
       "EXT2     1783\n",
       "EXT3     1783\n",
       "EXT4     1783\n",
       "EXT5     1783\n",
       "EXT6     1783\n",
       "EXT7     1783\n",
       "EXT8     1783\n",
       "EXT9     1783\n",
       "EXT10    1783\n",
       "EST1     1783\n",
       "EST2     1783\n",
       "EST3     1783\n",
       "EST4     1783\n",
       "EST5     1783\n",
       "EST6     1783\n",
       "EST7     1783\n",
       "EST8     1783\n",
       "EST9     1783\n",
       "EST10    1783\n",
       "AGR1     1783\n",
       "AGR2     1783\n",
       "AGR3     1783\n",
       "AGR4     1783\n",
       "AGR5     1783\n",
       "AGR6     1783\n",
       "AGR7     1783\n",
       "AGR8     1783\n",
       "AGR9     1783\n",
       "AGR10    1783\n",
       "CSN1     1783\n",
       "CSN2     1783\n",
       "CSN3     1783\n",
       "CSN4     1783\n",
       "CSN5     1783\n",
       "CSN6     1783\n",
       "CSN7     1783\n",
       "CSN8     1783\n",
       "CSN9     1783\n",
       "CSN10    1783\n",
       "OPN1     1783\n",
       "OPN2     1783\n",
       "OPN3     1783\n",
       "OPN4     1783\n",
       "OPN5     1783\n",
       "OPN6     1783\n",
       "OPN7     1783\n",
       "OPN8     1783\n",
       "OPN9     1783\n",
       "OPN10    1783\n",
       "dtype: int64"
      ]
     },
     "execution_count": 8,
     "metadata": {},
     "output_type": "execute_result"
    }
   ],
   "source": [
    "#check null values there\n",
    "x.isnull().sum()"
   ]
  },
  {
   "cell_type": "code",
   "execution_count": 10,
   "metadata": {},
   "outputs": [
    {
     "data": {
      "text/plain": [
       "EXT1     0\n",
       "EXT2     0\n",
       "EXT3     0\n",
       "EXT4     0\n",
       "EXT5     0\n",
       "EXT6     0\n",
       "EXT7     0\n",
       "EXT8     0\n",
       "EXT9     0\n",
       "EXT10    0\n",
       "EST1     0\n",
       "EST2     0\n",
       "EST3     0\n",
       "EST4     0\n",
       "EST5     0\n",
       "EST6     0\n",
       "EST7     0\n",
       "EST8     0\n",
       "EST9     0\n",
       "EST10    0\n",
       "AGR1     0\n",
       "AGR2     0\n",
       "AGR3     0\n",
       "AGR4     0\n",
       "AGR5     0\n",
       "AGR6     0\n",
       "AGR7     0\n",
       "AGR8     0\n",
       "AGR9     0\n",
       "AGR10    0\n",
       "CSN1     0\n",
       "CSN2     0\n",
       "CSN3     0\n",
       "CSN4     0\n",
       "CSN5     0\n",
       "CSN6     0\n",
       "CSN7     0\n",
       "CSN8     0\n",
       "CSN9     0\n",
       "CSN10    0\n",
       "OPN1     0\n",
       "OPN2     0\n",
       "OPN3     0\n",
       "OPN4     0\n",
       "OPN5     0\n",
       "OPN6     0\n",
       "OPN7     0\n",
       "OPN8     0\n",
       "OPN9     0\n",
       "OPN10    0\n",
       "dtype: int64"
      ]
     },
     "execution_count": 10,
     "metadata": {},
     "output_type": "execute_result"
    }
   ],
   "source": [
    "#fill the values with 0 (1 million>> 1783)\n",
    "x = x.fillna(0)\n",
    "x.isnull().sum()"
   ]
  },
  {
   "cell_type": "code",
   "execution_count": 11,
   "metadata": {},
   "outputs": [
    {
     "name": "stderr",
     "output_type": "stream",
     "text": [
      "c:\\Users\\ACER\\AppData\\Local\\Programs\\Python\\Python39\\lib\\site-packages\\sklearn\\cluster\\_kmeans.py:870: FutureWarning: The default value of `n_init` will change from 10 to 'auto' in 1.4. Set the value of `n_init` explicitly to suppress the warning\n",
      "  warnings.warn(\n"
     ]
    },
    {
     "data": {
      "text/html": [
       "<style>#sk-container-id-1 {color: black;background-color: white;}#sk-container-id-1 pre{padding: 0;}#sk-container-id-1 div.sk-toggleable {background-color: white;}#sk-container-id-1 label.sk-toggleable__label {cursor: pointer;display: block;width: 100%;margin-bottom: 0;padding: 0.3em;box-sizing: border-box;text-align: center;}#sk-container-id-1 label.sk-toggleable__label-arrow:before {content: \"▸\";float: left;margin-right: 0.25em;color: #696969;}#sk-container-id-1 label.sk-toggleable__label-arrow:hover:before {color: black;}#sk-container-id-1 div.sk-estimator:hover label.sk-toggleable__label-arrow:before {color: black;}#sk-container-id-1 div.sk-toggleable__content {max-height: 0;max-width: 0;overflow: hidden;text-align: left;background-color: #f0f8ff;}#sk-container-id-1 div.sk-toggleable__content pre {margin: 0.2em;color: black;border-radius: 0.25em;background-color: #f0f8ff;}#sk-container-id-1 input.sk-toggleable__control:checked~div.sk-toggleable__content {max-height: 200px;max-width: 100%;overflow: auto;}#sk-container-id-1 input.sk-toggleable__control:checked~label.sk-toggleable__label-arrow:before {content: \"▾\";}#sk-container-id-1 div.sk-estimator input.sk-toggleable__control:checked~label.sk-toggleable__label {background-color: #d4ebff;}#sk-container-id-1 div.sk-label input.sk-toggleable__control:checked~label.sk-toggleable__label {background-color: #d4ebff;}#sk-container-id-1 input.sk-hidden--visually {border: 0;clip: rect(1px 1px 1px 1px);clip: rect(1px, 1px, 1px, 1px);height: 1px;margin: -1px;overflow: hidden;padding: 0;position: absolute;width: 1px;}#sk-container-id-1 div.sk-estimator {font-family: monospace;background-color: #f0f8ff;border: 1px dotted black;border-radius: 0.25em;box-sizing: border-box;margin-bottom: 0.5em;}#sk-container-id-1 div.sk-estimator:hover {background-color: #d4ebff;}#sk-container-id-1 div.sk-parallel-item::after {content: \"\";width: 100%;border-bottom: 1px solid gray;flex-grow: 1;}#sk-container-id-1 div.sk-label:hover label.sk-toggleable__label {background-color: #d4ebff;}#sk-container-id-1 div.sk-serial::before {content: \"\";position: absolute;border-left: 1px solid gray;box-sizing: border-box;top: 0;bottom: 0;left: 50%;z-index: 0;}#sk-container-id-1 div.sk-serial {display: flex;flex-direction: column;align-items: center;background-color: white;padding-right: 0.2em;padding-left: 0.2em;position: relative;}#sk-container-id-1 div.sk-item {position: relative;z-index: 1;}#sk-container-id-1 div.sk-parallel {display: flex;align-items: stretch;justify-content: center;background-color: white;position: relative;}#sk-container-id-1 div.sk-item::before, #sk-container-id-1 div.sk-parallel-item::before {content: \"\";position: absolute;border-left: 1px solid gray;box-sizing: border-box;top: 0;bottom: 0;left: 50%;z-index: -1;}#sk-container-id-1 div.sk-parallel-item {display: flex;flex-direction: column;z-index: 1;position: relative;background-color: white;}#sk-container-id-1 div.sk-parallel-item:first-child::after {align-self: flex-end;width: 50%;}#sk-container-id-1 div.sk-parallel-item:last-child::after {align-self: flex-start;width: 50%;}#sk-container-id-1 div.sk-parallel-item:only-child::after {width: 0;}#sk-container-id-1 div.sk-dashed-wrapped {border: 1px dashed gray;margin: 0 0.4em 0.5em 0.4em;box-sizing: border-box;padding-bottom: 0.4em;background-color: white;}#sk-container-id-1 div.sk-label label {font-family: monospace;font-weight: bold;display: inline-block;line-height: 1.2em;}#sk-container-id-1 div.sk-label-container {text-align: center;}#sk-container-id-1 div.sk-container {/* jupyter's `normalize.less` sets `[hidden] { display: none; }` but bootstrap.min.css set `[hidden] { display: none !important; }` so we also need the `!important` here to be able to override the default hidden behavior on the sphinx rendered scikit-learn.org. See: https://github.com/scikit-learn/scikit-learn/issues/21755 */display: inline-block !important;position: relative;}#sk-container-id-1 div.sk-text-repr-fallback {display: none;}</style><div id=\"sk-container-id-1\" class=\"sk-top-container\"><div class=\"sk-text-repr-fallback\"><pre>KMeans(n_clusters=10)</pre><b>In a Jupyter environment, please rerun this cell to show the HTML representation or trust the notebook. <br />On GitHub, the HTML representation is unable to render, please try loading this page with nbviewer.org.</b></div><div class=\"sk-container\" hidden><div class=\"sk-item\"><div class=\"sk-estimator sk-toggleable\"><input class=\"sk-toggleable__control sk-hidden--visually\" id=\"sk-estimator-id-1\" type=\"checkbox\" checked><label for=\"sk-estimator-id-1\" class=\"sk-toggleable__label sk-toggleable__label-arrow\">KMeans</label><div class=\"sk-toggleable__content\"><pre>KMeans(n_clusters=10)</pre></div></div></div></div></div>"
      ],
      "text/plain": [
       "KMeans(n_clusters=10)"
      ]
     },
     "execution_count": 11,
     "metadata": {},
     "output_type": "execute_result"
    }
   ],
   "source": [
    "kmc = KMeans(n_clusters=10)\n",
    "kmc.fit(x)"
   ]
  },
  {
   "cell_type": "code",
   "execution_count": 64,
   "metadata": {},
   "outputs": [
    {
     "data": {
      "text/plain": [
       "array([5, 0, 0, ..., 5, 8, 5])"
      ]
     },
     "execution_count": 64,
     "metadata": {},
     "output_type": "execute_result"
    }
   ],
   "source": [
    "len(kmc.labels_)\n",
    "kmc.labels_"
   ]
  },
  {
   "cell_type": "code",
   "execution_count": 14,
   "metadata": {},
   "outputs": [],
   "source": [
    "#untagging the clusters seperately into 10\n",
    "one, two, three, four, five, six, seven, eight, nine, ten = kmc.cluster_centers_"
   ]
  },
  {
   "cell_type": "code",
   "execution_count": 18,
   "metadata": {},
   "outputs": [
    {
     "data": {
      "text/plain": [
       "array([1.95074653, 3.60293128, 3.15414143, 3.78964248, 2.73571957,\n",
       "       2.86776008, 2.04530688, 4.10093306, 2.28339856, 4.19344949,\n",
       "       2.49978813, 3.80871075, 3.4451756 , 3.08725708, 2.2007943 ,\n",
       "       1.87507997, 2.05153834, 1.61769569, 2.10491288, 2.07206893,\n",
       "       1.88087108, 3.86588233, 1.6021752 , 4.22430768, 2.09652949,\n",
       "       3.91385628, 2.08639298, 3.8917969 , 3.95587294, 3.69142634,\n",
       "       3.60714375, 2.54526949, 4.16451889, 2.00327359, 2.85270487,\n",
       "       2.33339149, 3.88848177, 2.05232766, 3.41733343, 3.73818723,\n",
       "       3.62408501, 1.91978032, 3.82497902, 1.93041535, 3.74697774,\n",
       "       1.92685095, 4.11344583, 2.96297681, 4.19461269, 3.82094934])"
      ]
     },
     "execution_count": 18,
     "metadata": {},
     "output_type": "execute_result"
    }
   ],
   "source": [
    "one"
   ]
  },
  {
   "cell_type": "code",
   "execution_count": 22,
   "metadata": {},
   "outputs": [],
   "source": [
    "#observing the distribution of 5 traits in each cluster\n",
    "#can't take the 1st 10 avg since there are positive and negative statements\n",
    "\n",
    "oneScores={}\n",
    "\n",
    "oneScores[\"EXT_SCORE\"] = one[0]-one[1]+one[2]-one[3]+one[4]-one[5]+one[6]-one[7]+one[8]-one[9]\n",
    "oneScores[\"EST_SCORE\"] = one[10]-one[11]+one[12]-one[13]+one[14]+one[15]+one[16]+one[17]+one[18]+one[19]\n",
    "oneScores[\"AGR_SCORE\"] = -one[20]+one[21]-one[22]+one[23]-one[24]+one[25]-one[26]+one[27]+one[28]+one[29]\n",
    "oneScores[\"CSN_SCORE\"] = one[30]-one[31]+one[32]-one[33]+one[34]-one[35]+one[36]-one[37]+one[38]+one[39]\n",
    "oneScores[\"OPN_SCORE\"] = one[40]-one[41]+one[42]-one[43]+one[44]-one[45]+one[46]-one[47]+one[48]+one[49]"
   ]
  },
  {
   "cell_type": "code",
   "execution_count": 23,
   "metadata": {},
   "outputs": [
    {
     "data": {
      "text/plain": [
       "{'EXT_SCORE': -6.385403424811217,\n",
       " 'EST_SCORE': 10.971086019092434,\n",
       " 'AGR_SCORE': 15.877173741452564,\n",
       " 'CSN_SCORE': 12.734107696270248,\n",
       " 'OPN_SCORE': 14.585026213680987}"
      ]
     },
     "execution_count": 23,
     "metadata": {},
     "output_type": "execute_result"
    }
   ],
   "source": [
    "oneScores"
   ]
  },
  {
   "cell_type": "code",
   "execution_count": 26,
   "metadata": {},
   "outputs": [
    {
     "data": {
      "text/plain": [
       "dict_items([('one', array([1.95074653, 3.60293128, 3.15414143, 3.78964248, 2.73571957,\n",
       "       2.86776008, 2.04530688, 4.10093306, 2.28339856, 4.19344949,\n",
       "       2.49978813, 3.80871075, 3.4451756 , 3.08725708, 2.2007943 ,\n",
       "       1.87507997, 2.05153834, 1.61769569, 2.10491288, 2.07206893,\n",
       "       1.88087108, 3.86588233, 1.6021752 , 4.22430768, 2.09652949,\n",
       "       3.91385628, 2.08639298, 3.8917969 , 3.95587294, 3.69142634,\n",
       "       3.60714375, 2.54526949, 4.16451889, 2.00327359, 2.85270487,\n",
       "       2.33339149, 3.88848177, 2.05232766, 3.41733343, 3.73818723,\n",
       "       3.62408501, 1.91978032, 3.82497902, 1.93041535, 3.74697774,\n",
       "       1.92685095, 4.11344583, 2.96297681, 4.19461269, 3.82094934])), ('two', array([1.98687779, 3.55807729, 2.49197104, 3.72838313, 2.44637931,\n",
       "       2.78820533, 1.90881652, 3.8027895 , 2.65932939, 4.1309274 ,\n",
       "       2.57070433, 3.5275649 , 3.25686765, 2.86481643, 2.39798156,\n",
       "       2.19342592, 2.5271051 , 2.14305926, 3.01714259, 2.58302483,\n",
       "       3.46301493, 2.61512886, 3.02444057, 2.32510788, 3.72931453,\n",
       "       2.27800703, 3.59171402, 2.62242684, 2.23959537, 2.86577142,\n",
       "       3.50924332, 2.75994482, 4.08015987, 2.37359994, 2.54535594,\n",
       "       2.63181164, 3.80163409, 2.50435049, 3.04006225, 3.76284515,\n",
       "       4.12895848, 1.64414393, 4.08227027, 1.81196208, 4.11235823,\n",
       "       1.80110354, 4.3617982 , 3.77450541, 4.15818576, 4.18169492])), ('three', array([3.46954579, 1.91060073, 4.39147985, 2.18032234, 4.34717949,\n",
       "       1.61887179, 3.94782418, 2.86527473, 3.68332601, 2.46320879,\n",
       "       2.49753114, 3.6701978 , 3.32521612, 3.22361905, 2.09830037,\n",
       "       1.98652747, 2.11949451, 1.69542857, 2.16301099, 1.72136996,\n",
       "       1.80689377, 4.48443956, 1.64213187, 4.3579707 , 1.75857875,\n",
       "       3.9683663 , 1.50825641, 4.20147985, 4.21772161, 4.2767326 ,\n",
       "       4.03967766, 2.06769231, 4.41808059, 1.58693773, 3.6247619 ,\n",
       "       1.76087179, 4.19722344, 1.6983956 , 3.99882784, 4.07682051,\n",
       "       3.88460806, 1.75918681, 4.06843223, 1.80379487, 4.19208791,\n",
       "       1.63418315, 4.35438828, 3.17462271, 4.15155311, 4.30936996])), ('four', array([1.62660053, 3.93550383, 2.05013423, 4.16318482, 1.97939614,\n",
       "       3.75975784, 1.55370814, 4.2020394 , 1.93136096, 4.55479081,\n",
       "       4.21699791, 2.48524587, 4.41712606, 2.35741352, 3.61002906,\n",
       "       3.83982014, 3.89980888, 3.65357889, 4.05516091, 3.80402576,\n",
       "       2.90360927, 2.86409183, 2.68126429, 3.40939271, 3.01414099,\n",
       "       3.58954671, 3.2123358 , 3.10716219, 3.21956097, 2.77731255,\n",
       "       2.80698653, 3.0300717 , 3.65056288, 3.34839864, 2.22890728,\n",
       "       3.27309787, 3.64546991, 3.02804998, 2.85324304, 3.15780461,\n",
       "       3.00983241, 2.87775777, 3.61272468, 2.60998486, 3.00736878,\n",
       "       2.59178939, 3.36916822, 2.68367268, 4.00308229, 3.14907697])), ('five', array([3.64659812, 1.69901282, 3.94684799, 2.29838201, 4.26407242,\n",
       "       1.66193422, 3.92902962, 2.60794659, 3.96487118, 2.78092819,\n",
       "       4.1009626 , 2.71513538, 4.46390038, 2.32959489, 3.43647237,\n",
       "       3.75404907, 4.04077336, 3.73307664, 3.88448777, 3.32966862,\n",
       "       2.01903904, 4.40409618, 2.67514029, 4.31877278, 1.87493549,\n",
       "       4.13995003, 1.72834965, 4.02718224, 4.29855405, 3.97625036,\n",
       "       3.12584279, 3.53255233, 4.00949494, 3.19256953, 2.36694384,\n",
       "       3.39351165, 3.6745996 , 2.72034572, 3.17559497, 3.63947897,\n",
       "       3.85656003, 2.05834596, 4.38372998, 1.89521976, 4.08053086,\n",
       "       1.66208168, 4.04966207, 3.4989309 , 4.32372916, 4.3371892 ])), ('six', array([3.52665479, 1.89457507, 4.12387674, 2.26151647, 4.1142446 ,\n",
       "       1.68682825, 3.76731142, 2.60829304, 3.94978367, 2.63569177,\n",
       "       2.25867773, 3.9560289 , 3.04824879, 3.15073709, 2.3362928 ,\n",
       "       1.99099434, 2.44545704, 1.95154564, 2.36199808, 2.01441884,\n",
       "       2.15435893, 4.28640929, 2.49913859, 3.91113765, 2.14504004,\n",
       "       3.510797  , 1.83846591, 3.7796061 , 3.76772255, 3.94576049,\n",
       "       2.80107285, 3.86986824, 3.62787055, 2.90134889, 1.93920202,\n",
       "       3.6693651 , 3.03077586, 2.69170305, 2.47954149, 3.35282601,\n",
       "       4.02037041, 1.66600756, 4.25990133, 1.68534036, 4.15119717,\n",
       "       1.60812663, 4.24795904, 3.54172948, 4.06421426, 4.36685331])), ('seven', array([2.04565737, 3.22796751, 2.52880557, 3.85820322, 2.6720696 ,\n",
       "       2.55247145, 2.01694242, 3.8646246 , 2.49732874, 4.32903515,\n",
       "       4.08399575, 2.62436671, 4.48458093, 1.95990955, 3.31374986,\n",
       "       3.61622779, 3.86705851, 3.59921632, 3.69312032, 3.91687597,\n",
       "       1.92503215, 3.91435575, 2.45607312, 4.26396693, 2.04859187,\n",
       "       4.08886357, 2.13674771, 3.75502102, 4.09595816, 3.37206011,\n",
       "       2.55812468, 3.99829109, 3.84413488, 3.73473844, 1.68902065,\n",
       "       4.03030303, 3.2417424 , 3.1741367 , 2.40672173, 3.3046788 ,\n",
       "       4.0021232 , 1.82962637, 4.47471583, 1.62050007, 3.8066078 ,\n",
       "       1.59638539, 3.96395743, 3.64813616, 4.52514608, 4.25132268])), ('eight', array([0.82358403, 0.61405138, 0.50928505, 0.35809347, 0.25905292,\n",
       "       0.15769112, 0.11559889, 0.1186939 , 0.12024141, 0.15196534,\n",
       "       0.71974621, 0.54317549, 0.4634788 , 0.26895698, 0.18895079,\n",
       "       0.12086041, 0.11482513, 0.10971835, 0.12596719, 0.15165583,\n",
       "       0.74713711, 0.68492727, 0.36985453, 0.38378211, 0.20643764,\n",
       "       0.16063138, 0.10786134, 0.11142061, 0.13045497, 0.13416899,\n",
       "       0.77483751, 0.52723615, 0.49241721, 0.28551532, 0.18740328,\n",
       "       0.12086041, 0.11111111, 0.10476633, 0.12349118, 0.14887032,\n",
       "       0.68539152, 0.4370164 , 0.4184463 , 0.23011452, 0.1901888 ,\n",
       "       0.10755184, 0.11420613, 0.11250387, 0.13014547, 0.2185082 ])), ('nine', array([2.11363697, 3.18527962, 2.85231309, 3.69114397, 2.95317462,\n",
       "       2.58748222, 2.15843152, 3.98471063, 2.3402131 , 4.18962756,\n",
       "       4.18352613, 2.4853324 , 4.55407642, 2.22743498, 3.32221298,\n",
       "       3.57795432, 3.60887302, 3.24921943, 3.71686483, 3.38359412,\n",
       "       1.83654061, 3.89611459, 1.88203298, 4.38276211, 1.96955545,\n",
       "       4.20700144, 2.05245265, 3.97570162, 4.26601179, 3.65812287,\n",
       "       3.95552752, 2.06307201, 4.42493536, 2.13517987, 3.36367947,\n",
       "       1.90804906, 4.38168854, 2.01341063, 4.00994838, 4.02946939,\n",
       "       3.78706711, 2.0598871 , 4.1433837 , 1.95219052, 3.8371937 ,\n",
       "       1.81576711, 4.07353928, 3.26906251, 4.4628233 , 3.98463011])), ('ten', array([3.01095943, 2.59014292, 3.51509325, 2.90706915, 3.44411331,\n",
       "       2.64009325, 3.0569602 , 3.16284529, 3.09847465, 3.37686663,\n",
       "       3.30228962, 3.23251939, 3.73393738, 2.78688393, 3.08850862,\n",
       "       2.94725373, 3.14795232, 2.76631898, 3.1980789 , 2.54840415,\n",
       "       2.8571028 , 3.65030763, 2.36503397, 3.67321989, 2.50981382,\n",
       "       3.63648016, 2.37699481, 3.49250144, 3.56829616, 3.44180606,\n",
       "       3.15789432, 2.79812376, 3.5662613 , 2.65893578, 2.76990002,\n",
       "       2.87938217, 3.45069858, 2.66656252, 3.22076684, 3.2594453 ,\n",
       "       2.74149202, 2.93570147, 3.2906973 , 2.78432032, 3.25868423,\n",
       "       2.58096199, 3.38298725, 2.36217394, 3.40777415, 3.27960969]))])"
      ]
     },
     "execution_count": 26,
     "metadata": {},
     "output_type": "execute_result"
    }
   ],
   "source": [
    "types = {\"one\":one, \"two\": two, \"three\":three, \"four\":four, \"five\":five, \"six\":six, \"seven\":seven, \"eight\":eight, \"nine\":nine, \"ten\":ten}\n",
    "types.items()"
   ]
  },
  {
   "cell_type": "code",
   "execution_count": 34,
   "metadata": {},
   "outputs": [],
   "source": [
    "typeScores = {}\n",
    "for cluster,traitType in types.items():\n",
    "\n",
    "    peronsalScore ={}\n",
    "    peronsalScore[\"EXT_SCORE\"] = traitType[0]-traitType[1]+traitType[2]-traitType[3]+traitType[4]-traitType[5]+traitType[6]-traitType[7]+traitType[8]-traitType[9]\n",
    "    peronsalScore[\"EST_SCORE\"] = traitType[10]-traitType[11]+traitType[12]-traitType[13]+traitType[14]+traitType[15]+traitType[16]+traitType[17]+traitType[18]+traitType[19]\n",
    "    peronsalScore[\"AGR_SCORE\"] = -traitType[20]+traitType[21]-traitType[22]+traitType[23]-traitType[24]+traitType[25]-traitType[26]+traitType[27]+traitType[28]+traitType[29]\n",
    "    peronsalScore[\"CSN_SCORE\"] = traitType[30]-traitType[31]+traitType[32]-traitType[33]+traitType[34]-traitType[35]+traitType[36]-traitType[37]+traitType[38]+traitType[39]\n",
    "    peronsalScore[\"OPN_SCORE\"] = traitType[40]-traitType[41]+traitType[42]-traitType[43]+traitType[44]-traitType[45]+traitType[46]-traitType[47]+traitType[48]+traitType[49]\n",
    "\n",
    "    typeScores[cluster]= peronsalScore"
   ]
  },
  {
   "cell_type": "code",
   "execution_count": 35,
   "metadata": {},
   "outputs": [
    {
     "data": {
      "text/plain": [
       "{'one': {'EXT_SCORE': -6.385403424811217,\n",
       "  'EST_SCORE': 10.971086019092434,\n",
       "  'AGR_SCORE': 15.877173741452564,\n",
       "  'CSN_SCORE': 12.734107696270248,\n",
       "  'OPN_SCORE': 14.585026213680987},\n",
       " 'two': {'EXT_SCORE': -6.515008606663471,\n",
       "  'EST_SCORE': 14.296929896955662,\n",
       "  'AGR_SCORE': 1.1375533495240013,\n",
       "  'CSN_SCORE': 10.469593718314488,\n",
       "  'OPN_SCORE': 15.993550897215146},\n",
       " 'three': {'EXT_SCORE': 8.801076923077495,\n",
       "  'EST_SCORE': 10.713062271061482,\n",
       "  'AGR_SCORE': 18.79084981684952,\n",
       "  'CSN_SCORE': 17.24149450549485,\n",
       "  'OPN_SCORE': 16.58865201465194},\n",
       " 'four': {'EXT_SCORE': -11.474076692775636,\n",
       "  'EST_SCORE': 26.65388821989213,\n",
       "  'AGR_SCORE': 7.155716605720189,\n",
       "  'CSN_SCORE': 5.66335605466379,\n",
       "  'OPN_SCORE': 9.388048653843363},\n",
       " 'five': {'EXT_SCORE': 8.703215499939045,\n",
       "  'EST_SCORE': 25.698660549706567,\n",
       "  'AGR_SCORE': 16.867341170687343,\n",
       "  'CSN_SCORE': 7.152975873510135,\n",
       "  'OPN_SCORE': 15.91682300413722},\n",
       " 'six': {'EXT_SCORE': 8.394966620333674,\n",
       "  'EST_SCORE': 11.300867284010899,\n",
       "  'AGR_SCORE': 14.564429609036969,\n",
       "  'CSN_SCORE': 4.099003504375769,\n",
       "  'OPN_SCORE': 16.609291489653273},\n",
       " 'seven': {'EXT_SCORE': -6.071498234984235,\n",
       "  'EST_SCORE': 25.990549183086685,\n",
       "  'AGR_SCORE': 14.923780672000564,\n",
       "  'CSN_SCORE': 2.1069539024538164,\n",
       "  'OPN_SCORE': 16.3292250330133},\n",
       " 'eight': {'EXT_SCORE': 0.4272670999690231,\n",
       "  'EST_SCORE': 1.1830702568863858,\n",
       "  'AGR_SCORE': 0.1740947075209256,\n",
       "  'CSN_SCORE': 0.7997523986381987,\n",
       "  'OPN_SCORE': 0.8696997833488771},\n",
       " 'nine': {'EXT_SCORE': -5.220474695152137,\n",
       "  'EST_SCORE': 24.88355386170669,\n",
       "  'AGR_SCORE': 16.645132719611265,\n",
       "  'CSN_SCORE': 16.04553709618302,\n",
       "  'OPN_SCORE': 15.191729962335847},\n",
       " 'ten': {'EXT_SCORE': 1.4485836057169879,\n",
       "  'EST_SCORE': 18.713340383259645,\n",
       "  'AGR_SCORE': 11.353665961674407,\n",
       "  'CSN_SCORE': 8.4219621226689,\n",
       "  'OPN_SCORE': 8.698086906363901}}"
      ]
     },
     "execution_count": 35,
     "metadata": {},
     "output_type": "execute_result"
    }
   ],
   "source": [
    "typeScores"
   ]
  },
  {
   "cell_type": "code",
   "execution_count": 52,
   "metadata": {},
   "outputs": [],
   "source": [
    "#since there are negative values, we use min max array to get all positive\n",
    "#first we have to take the sum of different traits of each cluster\n",
    "\n",
    "totalEXT = []\n",
    "totalEST = []\n",
    "totalAGR = []\n",
    "totalCSN = []\n",
    "totalOPN = []\n",
    "\n",
    "for cluster,traitType in typeScores.items():\n",
    "    totalEXT.append(traitType[\"EXT_SCORE\"])\n",
    "    totalEST.append(traitType[\"EST_SCORE\"])\n",
    "    totalAGR.append(traitType[\"AGR_SCORE\"])\n",
    "    totalCSN.append(traitType[\"CSN_SCORE\"])\n",
    "    totalOPN.append(traitType[\"OPN_SCORE\"])\n",
    "    "
   ]
  },
  {
   "cell_type": "code",
   "execution_count": 53,
   "metadata": {},
   "outputs": [
    {
     "data": {
      "text/plain": [
       "[-6.385403424811217,\n",
       " -6.515008606663471,\n",
       " 8.801076923077495,\n",
       " -11.474076692775636,\n",
       " 8.703215499939045,\n",
       " 8.394966620333674,\n",
       " -6.071498234984235,\n",
       " 0.4272670999690231,\n",
       " -5.220474695152137,\n",
       " 1.4485836057169879]"
      ]
     },
     "execution_count": 53,
     "metadata": {},
     "output_type": "execute_result"
    }
   ],
   "source": [
    "totalEXT"
   ]
  },
  {
   "cell_type": "code",
   "execution_count": 54,
   "metadata": {},
   "outputs": [],
   "source": [
    "minMaxArray = lambda L : (np.array(L)-np.array(L).min()) / (np.array(L).max()-np.array(L).min())"
   ]
  },
  {
   "cell_type": "code",
   "execution_count": 55,
   "metadata": {},
   "outputs": [],
   "source": [
    "normExtro = list(minMaxArray(totalEXT))\n",
    "normEST = list(minMaxArray(totalEST))\n",
    "normARG = list(minMaxArray(totalAGR))\n",
    "normCSN = list(minMaxArray(totalCSN))\n",
    "normOPN = list(minMaxArray(totalOPN))"
   ]
  },
  {
   "cell_type": "code",
   "execution_count": 56,
   "metadata": {},
   "outputs": [
    {
     "data": {
      "text/plain": [
       "[0.7258571032235751,\n",
       " 0.5881275388478272,\n",
       " 1.0,\n",
       " 0.2958082923583467,\n",
       " 0.38640816974148195,\n",
       " 0.20066311004608775,\n",
       " 0.0795050485112815,\n",
       " 0.0,\n",
       " 0.9272609069319313,\n",
       " 0.46358893567926923]"
      ]
     },
     "execution_count": 56,
     "metadata": {},
     "output_type": "execute_result"
    }
   ],
   "source": [
    "normCSN"
   ]
  },
  {
   "cell_type": "code",
   "execution_count": 57,
   "metadata": {},
   "outputs": [
    {
     "data": {
      "text/plain": [
       "[0.38428352699243223,\n",
       " 0.5148582059326116,\n",
       " 0.3741533557350463,\n",
       " 1.0,\n",
       " 0.9624971733702092,\n",
       " 0.3972309425562923,\n",
       " 0.9739569008828499,\n",
       " 0.0,\n",
       " 0.9304955827976665,\n",
       " 0.6882492015699898]"
      ]
     },
     "execution_count": 57,
     "metadata": {},
     "output_type": "execute_result"
    }
   ],
   "source": [
    "normEST"
   ]
  },
  {
   "cell_type": "code",
   "execution_count": 58,
   "metadata": {},
   "outputs": [],
   "source": [
    "idx = 0\n",
    "\n",
    "normTypeScores = {}\n",
    "\n",
    "for personalityType, personalityScore in typeScores.items():\n",
    "    normPersonScore={}\n",
    "    \n",
    "    normPersonScore[\"EXT_SCORE\"] = normExtro[idx]\n",
    "    normPersonScore[\"EST_SCORE\"] = normEST[idx]\n",
    "    normPersonScore[\"ARG_SCORE\"] = normARG[idx]\n",
    "    normPersonScore[\"CSN_SCORE\"] = normCSN[idx]\n",
    "    normPersonScore[\"OPN_SCORE\"] = normOPN[idx]\n",
    "\n",
    "    normTypeScores[personalityType] = normPersonScore\n",
    "\n",
    "    idx = idx + 1"
   ]
  },
  {
   "cell_type": "code",
   "execution_count": 59,
   "metadata": {},
   "outputs": [
    {
     "data": {
      "text/plain": [
       "{'one': {'EXT_SCORE': 0.2509807503498069,\n",
       "  'EST_SCORE': 0.38428352699243223,\n",
       "  'ARG_SCORE': 0.8434917332109636,\n",
       "  'CSN_SCORE': 0.7258571032235751,\n",
       "  'OPN_SCORE': 0.8713902295723795},\n",
       " 'two': {'EXT_SCORE': 0.24458843469549213,\n",
       "  'EST_SCORE': 0.5148582059326116,\n",
       "  'ARG_SCORE': 0.05175223267132628,\n",
       "  'CSN_SCORE': 0.5881275388478272,\n",
       "  'OPN_SCORE': 0.9608795066652527},\n",
       " 'three': {'EXT_SCORE': 1.0,\n",
       "  'EST_SCORE': 0.3741533557350463,\n",
       "  'ARG_SCORE': 1.0,\n",
       "  'CSN_SCORE': 1.0,\n",
       "  'OPN_SCORE': 0.9986886905717469},\n",
       " 'four': {'EXT_SCORE': 0.0,\n",
       "  'EST_SCORE': 1.0,\n",
       "  'ARG_SCORE': 0.3750181950183612,\n",
       "  'CSN_SCORE': 0.2958082923583467,\n",
       "  'OPN_SCORE': 0.5412051995657876},\n",
       " 'five': {'EXT_SCORE': 0.9951733325925614,\n",
       "  'EST_SCORE': 0.9624971733702092,\n",
       "  'ARG_SCORE': 0.896678629822104,\n",
       "  'CSN_SCORE': 0.38640816974148195,\n",
       "  'OPN_SCORE': 0.9560046729014776},\n",
       " 'six': {'EXT_SCORE': 0.9799700505141286,\n",
       "  'EST_SCORE': 0.3972309425562923,\n",
       "  'ARG_SCORE': 0.772977611673328,\n",
       "  'CSN_SCORE': 0.20066311004608775,\n",
       "  'OPN_SCORE': 1.0},\n",
       " 'seven': {'EXT_SCORE': 0.26646300985690824,\n",
       "  'EST_SCORE': 0.9739569008828499,\n",
       "  'ARG_SCORE': 0.7922801733095141,\n",
       "  'CSN_SCORE': 0.0795050485112815,\n",
       "  'OPN_SCORE': 0.982206243855246},\n",
       " 'eight': {'EXT_SCORE': 0.5869915473014717,\n",
       "  'EST_SCORE': 0.0,\n",
       "  'ARG_SCORE': 0.0,\n",
       "  'CSN_SCORE': 0.0,\n",
       "  'OPN_SCORE': 0.0},\n",
       " 'nine': {'EXT_SCORE': 0.30843672586203297,\n",
       "  'EST_SCORE': 0.9304955827976665,\n",
       "  'ARG_SCORE': 0.88474269094494,\n",
       "  'CSN_SCORE': 0.9272609069319313,\n",
       "  'OPN_SCORE': 0.9099365756260609},\n",
       " 'ten': {'EXT_SCORE': 0.6373643595177697,\n",
       "  'EST_SCORE': 0.6882492015699898,\n",
       "  'ARG_SCORE': 0.6005112700092163,\n",
       "  'CSN_SCORE': 0.46358893567926923,\n",
       "  'OPN_SCORE': 0.49736913568599195}}"
      ]
     },
     "execution_count": 59,
     "metadata": {},
     "output_type": "execute_result"
    }
   ],
   "source": [
    "normTypeScores"
   ]
  },
  {
   "cell_type": "code",
   "execution_count": 61,
   "metadata": {},
   "outputs": [
    {
     "data": {
      "text/plain": [
       "<BarContainer object of 5 artists>"
      ]
     },
     "execution_count": 61,
     "metadata": {},
     "output_type": "execute_result"
    },
    {
     "data": {
      "image/png": "[encoded data removed]",
      "text/plain": [
       "<Figure size 640x480 with 1 Axes>"
      ]
     },
     "metadata": {},
     "output_type": "display_data"
    }
   ],
   "source": [
    "#let's see the different traits in cluster 1\n",
    "plt.bar(list(normTypeScores[\"one\"].keys()), normTypeScores[\"one\"].values())"
   ]
  },
  {
   "cell_type": "code",
   "execution_count": 62,
   "metadata": {},
   "outputs": [
    {
     "data": {
      "text/plain": [
       "<BarContainer object of 5 artists>"
      ]
     },
     "execution_count": 62,
     "metadata": {},
     "output_type": "execute_result"
    },
    {
     "data": {
      "image/png": "[encoded data removed]",
      "text/plain": [
       "<Figure size 640x480 with 1 Axes>"
      ]
     },
     "metadata": {},
     "output_type": "display_data"
    }
   ],
   "source": [
    "#let's see the different traits in cluster 7\n",
    "plt.bar(list(normTypeScores[\"seven\"].keys()), normTypeScores[\"seven\"].values())"
   ]
  },
  {
   "cell_type": "code",
   "execution_count": null,
   "metadata": {},
   "outputs": [],
   "source": []
  }
 ],
 "metadata": {
  "kernelspec": {
   "display_name": "Python 3",
   "language": "python",
   "name": "python3"
  },
  "language_info": {
   "codemirror_mode": {
    "name": "ipython",
    "version": 3
   },
   "file_extension": ".py",
   "mimetype": "text/x-python",
   "name": "python",
   "nbconvert_exporter": "python",
   "pygments_lexer": "ipython3",
   "version": "3.9.1"
  },
  "orig_nbformat": 4
 },
 "nbformat": 4,
 "nbformat_minor": 2
}
